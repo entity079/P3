{
  "cells": [
    {
      "cell_type": "code",
      "execution_count": 1,
      "metadata": {
        "id": "wGtqeV2LtI5X",
        "colab": {
          "base_uri": "https://localhost:8080/"
        },
        "outputId": "2260e54f-c97f-4e64-eaee-ef34e7c7ceae"
      },
      "outputs": [
        {
          "output_type": "stream",
          "name": "stdout",
          "text": [
            "Mounted at /content/drive\n"
          ]
        }
      ],
      "source": [
        "from google.colab import drive\n",
        "drive.mount('/content/drive')"
      ]
    },
    {
      "cell_type": "code",
      "execution_count": 2,
      "metadata": {
        "id": "IM7SkTnGuRUr"
      },
      "outputs": [],
      "source": [
        "import os\n",
        "import cv2\n",
        "import numpy as np\n",
        "from tqdm import tqdm"
      ]
    },
    {
      "cell_type": "markdown",
      "metadata": {
        "id": "fhW4y9KXuqm-"
      },
      "source": [
        "**LOADING DATASET**"
      ]
    },
    {
      "cell_type": "code",
      "execution_count": 3,
      "metadata": {
        "id": "KLp0FSLluUC9"
      },
      "outputs": [],
      "source": [
        "DATASET_PATH = '/content/drive/My Drive/Dataset'"
      ]
    },
    {
      "cell_type": "code",
      "execution_count": 4,
      "metadata": {
        "id": "NqJP4BZVuor6",
        "colab": {
          "base_uri": "https://localhost:8080/"
        },
        "outputId": "b62e4a0b-5dc6-4213-81f5-e5575a909ba3"
      },
      "outputs": [
        {
          "output_type": "stream",
          "name": "stdout",
          "text": [
            "Found folders: ['INDIA50OLD', 'INDIA200', 'INDIA2000', 'INDIA500', 'INDIA50NEW', 'INDIA10OLD', 'INDIA10NEW', 'INDIA100NEW', 'INDIA20', 'INDIA100OLD']\n",
            "INDIA50OLD: 200 images\n",
            "INDIA200: 200 images\n",
            "INDIA2000: 200 images\n",
            "INDIA500: 200 images\n",
            "INDIA50NEW: 200 images\n",
            "INDIA10OLD: 200 images\n",
            "INDIA10NEW: 200 images\n",
            "INDIA100NEW: 200 images\n",
            "INDIA20: 200 images\n",
            "INDIA100OLD: 200 images\n"
          ]
        }
      ],
      "source": [
        "class_folders = os.listdir(DATASET_PATH)\n",
        "print(f\"Found folders: {class_folders}\")\n",
        "\n",
        "for folder in class_folders:\n",
        "  folder_path = os.path.join(DATASET_PATH, folder)\n",
        "\n",
        "  if os.path.isdir(folder_path):\n",
        "    count = len(os.listdir(folder_path))\n",
        "    print(f\"{folder}: {count} images\")"
      ]
    },
    {
      "cell_type": "markdown",
      "metadata": {
        "id": "tCLskXfYyBDd"
      },
      "source": [
        "**PREPROCESSING**"
      ]
    },
    {
      "cell_type": "code",
      "execution_count": 5,
      "metadata": {
        "id": "P9-V-hK6zUeW",
        "colab": {
          "base_uri": "https://localhost:8080/"
        },
        "outputId": "5fc8c5d3-24da-4ff2-dd70-e1617a498a9c"
      },
      "outputs": [
        {
          "output_type": "stream",
          "name": "stdout",
          "text": [
            "Total original images: 2000\n"
          ]
        }
      ],
      "source": [
        "original_image_paths = []\n",
        "original_labels = []\n",
        "\n",
        "for folder in class_folders:\n",
        "    folder_path = os.path.join(DATASET_PATH, folder)\n",
        "    if not os.path.isdir(folder_path):\n",
        "        continue\n",
        "\n",
        "    label = folder\n",
        "    folder_images = os.listdir(folder_path)\n",
        "\n",
        "    for filename in folder_images:\n",
        "        img_path = os.path.join(folder_path, filename)\n",
        "        original_image_paths.append(img_path)\n",
        "        original_labels.append(label)\n",
        "\n",
        "print(f\"Total original images: {len(original_image_paths)}\")"
      ]
    },
    {
      "cell_type": "markdown",
      "source": [
        "**FEATURE EXTRACTION**"
      ],
      "metadata": {
        "id": "63DDQE3zZ4Tq"
      }
    },
    {
      "cell_type": "code",
      "source": [
        "from sklearn.model_selection import train_test_split\n",
        "\n",
        "X_paths_train_orig, X_paths_test_orig, y_train, y_test = train_test_split(\n",
        "    original_image_paths,\n",
        "    original_labels,\n",
        "    test_size=0.2,\n",
        "    random_state=42,\n",
        "    stratify=original_labels)\n",
        "\n",
        "X_paths_train_final = [(path, 'original') for path in X_paths_train_orig]\n",
        "X_paths_test_final = [(path, 'original') for path in X_paths_test_orig]"
      ],
      "metadata": {
        "id": "BF0bXacbXa0j"
      },
      "execution_count": 6,
      "outputs": []
    },
    {
      "cell_type": "code",
      "execution_count": 9,
      "metadata": {
        "id": "dhlU-dmjzxnY"
      },
      "outputs": [],
      "source": [
        "from sklearn.decomposition import PCA\n",
        "from sklearn.cluster import MiniBatchKMeans\n",
        "\n",
        "sift = cv2.SIFT_create()\n",
        "orb = cv2.ORB_create(nfeatures=200)\n",
        "\n",
        "VOCAB_SIZE_SIFT = 25000\n",
        "VOCAB_SIZE_ORB = 25000\n",
        "IMG_SIZE = 150"
      ]
    },
    {
      "cell_type": "code",
      "source": [
        "def improved_preprocess_image(image_path, img_size=150):\n",
        "    image = cv2.imread(image_path, cv2.IMREAD_GRAYSCALE)\n",
        "\n",
        "    resized = cv2.resize(image, (img_size, img_size))\n",
        "    clahe = cv2.createCLAHE(clipLimit=3.0, tileGridSize=(8,8))\n",
        "    return clahe.apply(resized)"
      ],
      "metadata": {
        "id": "GkJ_aTjLZtuF"
      },
      "execution_count": 10,
      "outputs": []
    },
    {
      "cell_type": "code",
      "source": [
        "def extract_descriptors(image_paths, sift_detector, orb_detector, max_desc=100):\n",
        "\n",
        "    sift_descriptors = []\n",
        "    orb_descriptors = []\n",
        "\n",
        "    for img_path, aug_type in tqdm(image_paths, desc='Extract descriptors'):\n",
        "        try:\n",
        "            image = improved_preprocess_image(img_path[0], IMG_SIZE) if isinstance(img_path, tuple) else improved_preprocess_image(img_path, IMG_SIZE)\n",
        "            if image is None:\n",
        "                continue\n",
        "\n",
        "            # SIFT descriptors\n",
        "            kp_sift, des_sift = sift_detector.detectAndCompute(image, None)\n",
        "            if des_sift is not None and len(des_sift) > max_desc:\n",
        "                des_sift = des_sift[:max_desc]\n",
        "            if des_sift is not None:\n",
        "                sift_descriptors.extend(des_sift)\n",
        "\n",
        "            # ORB descriptors\n",
        "            kp_orb, des_orb = orb_detector.detectAndCompute(image, None)\n",
        "            if des_orb is not None and len(des_orb) > max_desc:\n",
        "                des_orb = des_orb[:max_desc]\n",
        "            if des_orb is not None:\n",
        "                orb_descriptors.extend(des_orb)\n",
        "\n",
        "        except Exception as e:\n",
        "            print(f\"Error extracting from {img_path}: {e}\")\n",
        "\n",
        "    return np.array(sift_descriptors, dtype=np.float32), np.array(orb_descriptors, dtype=np.uint8)"
      ],
      "metadata": {
        "id": "luQz29GkYJsK"
      },
      "execution_count": 11,
      "outputs": []
    },
    {
      "cell_type": "code",
      "source": [
        "sift_desc, orb_desc = extract_descriptors(X_paths_train_final, sift, orb)\n",
        "\n",
        "print(f\"SIFT descriptors shape: {sift_desc.shape}\")\n",
        "print(f\"ORB descriptors shape: {orb_desc.shape}\")\n",
        "\n",
        "sift_kmeans = MiniBatchKMeans(n_clusters=VOCAB_SIZE_SIFT, random_state=42, batch_size=2048)\n",
        "sift_kmeans.fit(sift_desc)\n",
        "\n",
        "orb_kmeans = MiniBatchKMeans(n_clusters=VOCAB_SIZE_ORB, random_state=42, batch_size=2048)\n",
        "orb_kmeans.fit(orb_desc)"
      ],
      "metadata": {
        "colab": {
          "base_uri": "https://localhost:8080/",
          "height": 132
        },
        "id": "14uuNvzKbIDG",
        "outputId": "75f5b332-274a-40b8-fd82-c19ffcca8ff4"
      },
      "execution_count": 12,
      "outputs": [
        {
          "output_type": "stream",
          "name": "stderr",
          "text": [
            "Extract descriptors: 100%|██████████| 1600/1600 [09:25<00:00,  2.83it/s]\n"
          ]
        },
        {
          "output_type": "stream",
          "name": "stdout",
          "text": [
            "SIFT descriptors shape: (159983, 128)\n",
            "ORB descriptors shape: (159736, 32)\n"
          ]
        },
        {
          "output_type": "execute_result",
          "data": {
            "text/plain": [
              "MiniBatchKMeans(batch_size=2048, n_clusters=25000, random_state=42)"
            ],
            "text/html": [
              "<style>#sk-container-id-1 {\n",
              "  /* Definition of color scheme common for light and dark mode */\n",
              "  --sklearn-color-text: #000;\n",
              "  --sklearn-color-text-muted: #666;\n",
              "  --sklearn-color-line: gray;\n",
              "  /* Definition of color scheme for unfitted estimators */\n",
              "  --sklearn-color-unfitted-level-0: #fff5e6;\n",
              "  --sklearn-color-unfitted-level-1: #f6e4d2;\n",
              "  --sklearn-color-unfitted-level-2: #ffe0b3;\n",
              "  --sklearn-color-unfitted-level-3: chocolate;\n",
              "  /* Definition of color scheme for fitted estimators */\n",
              "  --sklearn-color-fitted-level-0: #f0f8ff;\n",
              "  --sklearn-color-fitted-level-1: #d4ebff;\n",
              "  --sklearn-color-fitted-level-2: #b3dbfd;\n",
              "  --sklearn-color-fitted-level-3: cornflowerblue;\n",
              "\n",
              "  /* Specific color for light theme */\n",
              "  --sklearn-color-text-on-default-background: var(--sg-text-color, var(--theme-code-foreground, var(--jp-content-font-color1, black)));\n",
              "  --sklearn-color-background: var(--sg-background-color, var(--theme-background, var(--jp-layout-color0, white)));\n",
              "  --sklearn-color-border-box: var(--sg-text-color, var(--theme-code-foreground, var(--jp-content-font-color1, black)));\n",
              "  --sklearn-color-icon: #696969;\n",
              "\n",
              "  @media (prefers-color-scheme: dark) {\n",
              "    /* Redefinition of color scheme for dark theme */\n",
              "    --sklearn-color-text-on-default-background: var(--sg-text-color, var(--theme-code-foreground, var(--jp-content-font-color1, white)));\n",
              "    --sklearn-color-background: var(--sg-background-color, var(--theme-background, var(--jp-layout-color0, #111)));\n",
              "    --sklearn-color-border-box: var(--sg-text-color, var(--theme-code-foreground, var(--jp-content-font-color1, white)));\n",
              "    --sklearn-color-icon: #878787;\n",
              "  }\n",
              "}\n",
              "\n",
              "#sk-container-id-1 {\n",
              "  color: var(--sklearn-color-text);\n",
              "}\n",
              "\n",
              "#sk-container-id-1 pre {\n",
              "  padding: 0;\n",
              "}\n",
              "\n",
              "#sk-container-id-1 input.sk-hidden--visually {\n",
              "  border: 0;\n",
              "  clip: rect(1px 1px 1px 1px);\n",
              "  clip: rect(1px, 1px, 1px, 1px);\n",
              "  height: 1px;\n",
              "  margin: -1px;\n",
              "  overflow: hidden;\n",
              "  padding: 0;\n",
              "  position: absolute;\n",
              "  width: 1px;\n",
              "}\n",
              "\n",
              "#sk-container-id-1 div.sk-dashed-wrapped {\n",
              "  border: 1px dashed var(--sklearn-color-line);\n",
              "  margin: 0 0.4em 0.5em 0.4em;\n",
              "  box-sizing: border-box;\n",
              "  padding-bottom: 0.4em;\n",
              "  background-color: var(--sklearn-color-background);\n",
              "}\n",
              "\n",
              "#sk-container-id-1 div.sk-container {\n",
              "  /* jupyter's `normalize.less` sets `[hidden] { display: none; }`\n",
              "     but bootstrap.min.css set `[hidden] { display: none !important; }`\n",
              "     so we also need the `!important` here to be able to override the\n",
              "     default hidden behavior on the sphinx rendered scikit-learn.org.\n",
              "     See: https://github.com/scikit-learn/scikit-learn/issues/21755 */\n",
              "  display: inline-block !important;\n",
              "  position: relative;\n",
              "}\n",
              "\n",
              "#sk-container-id-1 div.sk-text-repr-fallback {\n",
              "  display: none;\n",
              "}\n",
              "\n",
              "div.sk-parallel-item,\n",
              "div.sk-serial,\n",
              "div.sk-item {\n",
              "  /* draw centered vertical line to link estimators */\n",
              "  background-image: linear-gradient(var(--sklearn-color-text-on-default-background), var(--sklearn-color-text-on-default-background));\n",
              "  background-size: 2px 100%;\n",
              "  background-repeat: no-repeat;\n",
              "  background-position: center center;\n",
              "}\n",
              "\n",
              "/* Parallel-specific style estimator block */\n",
              "\n",
              "#sk-container-id-1 div.sk-parallel-item::after {\n",
              "  content: \"\";\n",
              "  width: 100%;\n",
              "  border-bottom: 2px solid var(--sklearn-color-text-on-default-background);\n",
              "  flex-grow: 1;\n",
              "}\n",
              "\n",
              "#sk-container-id-1 div.sk-parallel {\n",
              "  display: flex;\n",
              "  align-items: stretch;\n",
              "  justify-content: center;\n",
              "  background-color: var(--sklearn-color-background);\n",
              "  position: relative;\n",
              "}\n",
              "\n",
              "#sk-container-id-1 div.sk-parallel-item {\n",
              "  display: flex;\n",
              "  flex-direction: column;\n",
              "}\n",
              "\n",
              "#sk-container-id-1 div.sk-parallel-item:first-child::after {\n",
              "  align-self: flex-end;\n",
              "  width: 50%;\n",
              "}\n",
              "\n",
              "#sk-container-id-1 div.sk-parallel-item:last-child::after {\n",
              "  align-self: flex-start;\n",
              "  width: 50%;\n",
              "}\n",
              "\n",
              "#sk-container-id-1 div.sk-parallel-item:only-child::after {\n",
              "  width: 0;\n",
              "}\n",
              "\n",
              "/* Serial-specific style estimator block */\n",
              "\n",
              "#sk-container-id-1 div.sk-serial {\n",
              "  display: flex;\n",
              "  flex-direction: column;\n",
              "  align-items: center;\n",
              "  background-color: var(--sklearn-color-background);\n",
              "  padding-right: 1em;\n",
              "  padding-left: 1em;\n",
              "}\n",
              "\n",
              "\n",
              "/* Toggleable style: style used for estimator/Pipeline/ColumnTransformer box that is\n",
              "clickable and can be expanded/collapsed.\n",
              "- Pipeline and ColumnTransformer use this feature and define the default style\n",
              "- Estimators will overwrite some part of the style using the `sk-estimator` class\n",
              "*/\n",
              "\n",
              "/* Pipeline and ColumnTransformer style (default) */\n",
              "\n",
              "#sk-container-id-1 div.sk-toggleable {\n",
              "  /* Default theme specific background. It is overwritten whether we have a\n",
              "  specific estimator or a Pipeline/ColumnTransformer */\n",
              "  background-color: var(--sklearn-color-background);\n",
              "}\n",
              "\n",
              "/* Toggleable label */\n",
              "#sk-container-id-1 label.sk-toggleable__label {\n",
              "  cursor: pointer;\n",
              "  display: flex;\n",
              "  width: 100%;\n",
              "  margin-bottom: 0;\n",
              "  padding: 0.5em;\n",
              "  box-sizing: border-box;\n",
              "  text-align: center;\n",
              "  align-items: start;\n",
              "  justify-content: space-between;\n",
              "  gap: 0.5em;\n",
              "}\n",
              "\n",
              "#sk-container-id-1 label.sk-toggleable__label .caption {\n",
              "  font-size: 0.6rem;\n",
              "  font-weight: lighter;\n",
              "  color: var(--sklearn-color-text-muted);\n",
              "}\n",
              "\n",
              "#sk-container-id-1 label.sk-toggleable__label-arrow:before {\n",
              "  /* Arrow on the left of the label */\n",
              "  content: \"▸\";\n",
              "  float: left;\n",
              "  margin-right: 0.25em;\n",
              "  color: var(--sklearn-color-icon);\n",
              "}\n",
              "\n",
              "#sk-container-id-1 label.sk-toggleable__label-arrow:hover:before {\n",
              "  color: var(--sklearn-color-text);\n",
              "}\n",
              "\n",
              "/* Toggleable content - dropdown */\n",
              "\n",
              "#sk-container-id-1 div.sk-toggleable__content {\n",
              "  max-height: 0;\n",
              "  max-width: 0;\n",
              "  overflow: hidden;\n",
              "  text-align: left;\n",
              "  /* unfitted */\n",
              "  background-color: var(--sklearn-color-unfitted-level-0);\n",
              "}\n",
              "\n",
              "#sk-container-id-1 div.sk-toggleable__content.fitted {\n",
              "  /* fitted */\n",
              "  background-color: var(--sklearn-color-fitted-level-0);\n",
              "}\n",
              "\n",
              "#sk-container-id-1 div.sk-toggleable__content pre {\n",
              "  margin: 0.2em;\n",
              "  border-radius: 0.25em;\n",
              "  color: var(--sklearn-color-text);\n",
              "  /* unfitted */\n",
              "  background-color: var(--sklearn-color-unfitted-level-0);\n",
              "}\n",
              "\n",
              "#sk-container-id-1 div.sk-toggleable__content.fitted pre {\n",
              "  /* unfitted */\n",
              "  background-color: var(--sklearn-color-fitted-level-0);\n",
              "}\n",
              "\n",
              "#sk-container-id-1 input.sk-toggleable__control:checked~div.sk-toggleable__content {\n",
              "  /* Expand drop-down */\n",
              "  max-height: 200px;\n",
              "  max-width: 100%;\n",
              "  overflow: auto;\n",
              "}\n",
              "\n",
              "#sk-container-id-1 input.sk-toggleable__control:checked~label.sk-toggleable__label-arrow:before {\n",
              "  content: \"▾\";\n",
              "}\n",
              "\n",
              "/* Pipeline/ColumnTransformer-specific style */\n",
              "\n",
              "#sk-container-id-1 div.sk-label input.sk-toggleable__control:checked~label.sk-toggleable__label {\n",
              "  color: var(--sklearn-color-text);\n",
              "  background-color: var(--sklearn-color-unfitted-level-2);\n",
              "}\n",
              "\n",
              "#sk-container-id-1 div.sk-label.fitted input.sk-toggleable__control:checked~label.sk-toggleable__label {\n",
              "  background-color: var(--sklearn-color-fitted-level-2);\n",
              "}\n",
              "\n",
              "/* Estimator-specific style */\n",
              "\n",
              "/* Colorize estimator box */\n",
              "#sk-container-id-1 div.sk-estimator input.sk-toggleable__control:checked~label.sk-toggleable__label {\n",
              "  /* unfitted */\n",
              "  background-color: var(--sklearn-color-unfitted-level-2);\n",
              "}\n",
              "\n",
              "#sk-container-id-1 div.sk-estimator.fitted input.sk-toggleable__control:checked~label.sk-toggleable__label {\n",
              "  /* fitted */\n",
              "  background-color: var(--sklearn-color-fitted-level-2);\n",
              "}\n",
              "\n",
              "#sk-container-id-1 div.sk-label label.sk-toggleable__label,\n",
              "#sk-container-id-1 div.sk-label label {\n",
              "  /* The background is the default theme color */\n",
              "  color: var(--sklearn-color-text-on-default-background);\n",
              "}\n",
              "\n",
              "/* On hover, darken the color of the background */\n",
              "#sk-container-id-1 div.sk-label:hover label.sk-toggleable__label {\n",
              "  color: var(--sklearn-color-text);\n",
              "  background-color: var(--sklearn-color-unfitted-level-2);\n",
              "}\n",
              "\n",
              "/* Label box, darken color on hover, fitted */\n",
              "#sk-container-id-1 div.sk-label.fitted:hover label.sk-toggleable__label.fitted {\n",
              "  color: var(--sklearn-color-text);\n",
              "  background-color: var(--sklearn-color-fitted-level-2);\n",
              "}\n",
              "\n",
              "/* Estimator label */\n",
              "\n",
              "#sk-container-id-1 div.sk-label label {\n",
              "  font-family: monospace;\n",
              "  font-weight: bold;\n",
              "  display: inline-block;\n",
              "  line-height: 1.2em;\n",
              "}\n",
              "\n",
              "#sk-container-id-1 div.sk-label-container {\n",
              "  text-align: center;\n",
              "}\n",
              "\n",
              "/* Estimator-specific */\n",
              "#sk-container-id-1 div.sk-estimator {\n",
              "  font-family: monospace;\n",
              "  border: 1px dotted var(--sklearn-color-border-box);\n",
              "  border-radius: 0.25em;\n",
              "  box-sizing: border-box;\n",
              "  margin-bottom: 0.5em;\n",
              "  /* unfitted */\n",
              "  background-color: var(--sklearn-color-unfitted-level-0);\n",
              "}\n",
              "\n",
              "#sk-container-id-1 div.sk-estimator.fitted {\n",
              "  /* fitted */\n",
              "  background-color: var(--sklearn-color-fitted-level-0);\n",
              "}\n",
              "\n",
              "/* on hover */\n",
              "#sk-container-id-1 div.sk-estimator:hover {\n",
              "  /* unfitted */\n",
              "  background-color: var(--sklearn-color-unfitted-level-2);\n",
              "}\n",
              "\n",
              "#sk-container-id-1 div.sk-estimator.fitted:hover {\n",
              "  /* fitted */\n",
              "  background-color: var(--sklearn-color-fitted-level-2);\n",
              "}\n",
              "\n",
              "/* Specification for estimator info (e.g. \"i\" and \"?\") */\n",
              "\n",
              "/* Common style for \"i\" and \"?\" */\n",
              "\n",
              ".sk-estimator-doc-link,\n",
              "a:link.sk-estimator-doc-link,\n",
              "a:visited.sk-estimator-doc-link {\n",
              "  float: right;\n",
              "  font-size: smaller;\n",
              "  line-height: 1em;\n",
              "  font-family: monospace;\n",
              "  background-color: var(--sklearn-color-background);\n",
              "  border-radius: 1em;\n",
              "  height: 1em;\n",
              "  width: 1em;\n",
              "  text-decoration: none !important;\n",
              "  margin-left: 0.5em;\n",
              "  text-align: center;\n",
              "  /* unfitted */\n",
              "  border: var(--sklearn-color-unfitted-level-1) 1pt solid;\n",
              "  color: var(--sklearn-color-unfitted-level-1);\n",
              "}\n",
              "\n",
              ".sk-estimator-doc-link.fitted,\n",
              "a:link.sk-estimator-doc-link.fitted,\n",
              "a:visited.sk-estimator-doc-link.fitted {\n",
              "  /* fitted */\n",
              "  border: var(--sklearn-color-fitted-level-1) 1pt solid;\n",
              "  color: var(--sklearn-color-fitted-level-1);\n",
              "}\n",
              "\n",
              "/* On hover */\n",
              "div.sk-estimator:hover .sk-estimator-doc-link:hover,\n",
              ".sk-estimator-doc-link:hover,\n",
              "div.sk-label-container:hover .sk-estimator-doc-link:hover,\n",
              ".sk-estimator-doc-link:hover {\n",
              "  /* unfitted */\n",
              "  background-color: var(--sklearn-color-unfitted-level-3);\n",
              "  color: var(--sklearn-color-background);\n",
              "  text-decoration: none;\n",
              "}\n",
              "\n",
              "div.sk-estimator.fitted:hover .sk-estimator-doc-link.fitted:hover,\n",
              ".sk-estimator-doc-link.fitted:hover,\n",
              "div.sk-label-container:hover .sk-estimator-doc-link.fitted:hover,\n",
              ".sk-estimator-doc-link.fitted:hover {\n",
              "  /* fitted */\n",
              "  background-color: var(--sklearn-color-fitted-level-3);\n",
              "  color: var(--sklearn-color-background);\n",
              "  text-decoration: none;\n",
              "}\n",
              "\n",
              "/* Span, style for the box shown on hovering the info icon */\n",
              ".sk-estimator-doc-link span {\n",
              "  display: none;\n",
              "  z-index: 9999;\n",
              "  position: relative;\n",
              "  font-weight: normal;\n",
              "  right: .2ex;\n",
              "  padding: .5ex;\n",
              "  margin: .5ex;\n",
              "  width: min-content;\n",
              "  min-width: 20ex;\n",
              "  max-width: 50ex;\n",
              "  color: var(--sklearn-color-text);\n",
              "  box-shadow: 2pt 2pt 4pt #999;\n",
              "  /* unfitted */\n",
              "  background: var(--sklearn-color-unfitted-level-0);\n",
              "  border: .5pt solid var(--sklearn-color-unfitted-level-3);\n",
              "}\n",
              "\n",
              ".sk-estimator-doc-link.fitted span {\n",
              "  /* fitted */\n",
              "  background: var(--sklearn-color-fitted-level-0);\n",
              "  border: var(--sklearn-color-fitted-level-3);\n",
              "}\n",
              "\n",
              ".sk-estimator-doc-link:hover span {\n",
              "  display: block;\n",
              "}\n",
              "\n",
              "/* \"?\"-specific style due to the `<a>` HTML tag */\n",
              "\n",
              "#sk-container-id-1 a.estimator_doc_link {\n",
              "  float: right;\n",
              "  font-size: 1rem;\n",
              "  line-height: 1em;\n",
              "  font-family: monospace;\n",
              "  background-color: var(--sklearn-color-background);\n",
              "  border-radius: 1rem;\n",
              "  height: 1rem;\n",
              "  width: 1rem;\n",
              "  text-decoration: none;\n",
              "  /* unfitted */\n",
              "  color: var(--sklearn-color-unfitted-level-1);\n",
              "  border: var(--sklearn-color-unfitted-level-1) 1pt solid;\n",
              "}\n",
              "\n",
              "#sk-container-id-1 a.estimator_doc_link.fitted {\n",
              "  /* fitted */\n",
              "  border: var(--sklearn-color-fitted-level-1) 1pt solid;\n",
              "  color: var(--sklearn-color-fitted-level-1);\n",
              "}\n",
              "\n",
              "/* On hover */\n",
              "#sk-container-id-1 a.estimator_doc_link:hover {\n",
              "  /* unfitted */\n",
              "  background-color: var(--sklearn-color-unfitted-level-3);\n",
              "  color: var(--sklearn-color-background);\n",
              "  text-decoration: none;\n",
              "}\n",
              "\n",
              "#sk-container-id-1 a.estimator_doc_link.fitted:hover {\n",
              "  /* fitted */\n",
              "  background-color: var(--sklearn-color-fitted-level-3);\n",
              "}\n",
              "</style><div id=\"sk-container-id-1\" class=\"sk-top-container\"><div class=\"sk-text-repr-fallback\"><pre>MiniBatchKMeans(batch_size=2048, n_clusters=25000, random_state=42)</pre><b>In a Jupyter environment, please rerun this cell to show the HTML representation or trust the notebook. <br />On GitHub, the HTML representation is unable to render, please try loading this page with nbviewer.org.</b></div><div class=\"sk-container\" hidden><div class=\"sk-item\"><div class=\"sk-estimator fitted sk-toggleable\"><input class=\"sk-toggleable__control sk-hidden--visually\" id=\"sk-estimator-id-1\" type=\"checkbox\" checked><label for=\"sk-estimator-id-1\" class=\"sk-toggleable__label fitted sk-toggleable__label-arrow\"><div><div>MiniBatchKMeans</div></div><div><a class=\"sk-estimator-doc-link fitted\" rel=\"noreferrer\" target=\"_blank\" href=\"https://scikit-learn.org/1.6/modules/generated/sklearn.cluster.MiniBatchKMeans.html\">?<span>Documentation for MiniBatchKMeans</span></a><span class=\"sk-estimator-doc-link fitted\">i<span>Fitted</span></span></div></label><div class=\"sk-toggleable__content fitted\"><pre>MiniBatchKMeans(batch_size=2048, n_clusters=25000, random_state=42)</pre></div> </div></div></div></div>"
            ]
          },
          "metadata": {},
          "execution_count": 12
        }
      ]
    },
    {
      "cell_type": "code",
      "source": [
        "def create_combined_histogram(image, sift_vocab, orb_vocab, sift_detector, orb_detector):\n",
        "\n",
        "    hist_sift = np.zeros(len(sift_vocab.cluster_centers_))\n",
        "    hist_orb = np.zeros(len(orb_vocab.cluster_centers_))\n",
        "    kp_sift, des_sift = sift_detector.detectAndCompute(image, None)\n",
        "    if des_sift is not None and len(des_sift) > 0:\n",
        "        des_sift = des_sift.astype(np.float32)\n",
        "        words = sift_vocab.predict(des_sift)\n",
        "        for w in words:\n",
        "            hist_sift[w] += 1\n",
        "    kp_orb, des_orb = orb_detector.detectAndCompute(image, None)\n",
        "    if des_orb is not None and len(des_orb) > 0:\n",
        "        words = orb_vocab.predict(des_orb)\n",
        "        for w in words:\n",
        "            hist_orb[w] += 1\n",
        "    return np.concatenate([hist_sift, hist_orb])"
      ],
      "metadata": {
        "id": "rrYZlteoYcoX"
      },
      "execution_count": 13,
      "outputs": []
    },
    {
      "cell_type": "code",
      "source": [
        "X_train_features = []\n",
        "\n",
        "for img_path, aug_type in tqdm(X_paths_train_final, desc=\"Creating training histograms\"):\n",
        "    img = improved_preprocess_image(img_path, IMG_SIZE)\n",
        "    h = create_combined_histogram(img, sift_kmeans, orb_kmeans, sift, orb)\n",
        "    X_train_features.append(h)\n",
        "\n",
        "X_test_features = []\n",
        "\n",
        "for img_path, aug_type in tqdm(X_paths_test_final, desc=\"Creating test histograms\"):\n",
        "    img = improved_preprocess_image(img_path, IMG_SIZE)\n",
        "    h = create_combined_histogram(img, sift_kmeans, orb_kmeans, sift, orb)\n",
        "    X_test_features.append(h)\n",
        "\n",
        "X_train = np.array(X_train_features)\n",
        "X_test = np.array(X_test_features)\n",
        "\n",
        "print(f\"Training features shape (SIFT+ORB fusion): {X_train.shape}\")\n",
        "print(f\"Test features shape (SIFT+ORB fusion): {X_test.shape}\")\n",
        "\n",
        "pca = PCA(n_components=0.95, svd_solver='full', random_state=42)\n",
        "X_train = pca.fit_transform(X_train)\n",
        "X_test = pca.transform(X_test)\n",
        "\n",
        "print(f\"Feature shapes after PCA: Train {X_train.shape}, Test {X_test.shape}\")"
      ],
      "metadata": {
        "colab": {
          "base_uri": "https://localhost:8080/"
        },
        "id": "WefnmqCtbVyW",
        "outputId": "56984b7f-0092-40ed-af8b-75098cd10895"
      },
      "execution_count": 14,
      "outputs": [
        {
          "output_type": "stream",
          "name": "stderr",
          "text": [
            "Creating training histograms: 100%|██████████| 1600/1600 [03:22<00:00,  7.90it/s]\n",
            "Creating test histograms: 100%|██████████| 400/400 [02:46<00:00,  2.40it/s]\n"
          ]
        },
        {
          "output_type": "stream",
          "name": "stdout",
          "text": [
            "Training features shape (SIFT+ORB fusion): (1600, 50000)\n",
            "Test features shape (SIFT+ORB fusion): (400, 50000)\n",
            "Feature shapes after PCA: Train (1600, 1444), Test (400, 1444)\n"
          ]
        }
      ]
    },
    {
      "cell_type": "markdown",
      "source": [
        "**ML MODELLING**"
      ],
      "metadata": {
        "id": "W4-WhpM3Ykpn"
      }
    },
    {
      "cell_type": "code",
      "execution_count": 16,
      "metadata": {
        "colab": {
          "base_uri": "https://localhost:8080/"
        },
        "id": "9siD3vTxKOZj",
        "outputId": "85293575-7324-435d-8dd7-267ee316f6bd"
      },
      "outputs": [
        {
          "output_type": "stream",
          "name": "stdout",
          "text": [
            "Fitting 3 folds for each of 8 candidates, totalling 24 fits\n",
            "Best hyperparameters found: {'C': 1, 'kernel': 'linear'}\n"
          ]
        }
      ],
      "source": [
        "from sklearn.model_selection import GridSearchCV\n",
        "from sklearn.preprocessing import StandardScaler\n",
        "from sklearn.svm import SVC\n",
        "from sklearn.metrics import accuracy_score, f1_score, classification_report\n",
        "\n",
        "scaler = StandardScaler()\n",
        "X_train_scaled = scaler.fit_transform(X_train)\n",
        "X_test_scaled = scaler.transform(X_test)\n",
        "\n",
        "param_grid = {\n",
        "    'C': [1, 10, 50, 100],\n",
        "    'kernel': ['linear', 'rbf'],\n",
        "    }\n",
        "\n",
        "svc = SVC(probability=True, random_state=42)\n",
        "\n",
        "grid_search = GridSearchCV(svc, param_grid, cv=3, n_jobs=-1, verbose=2)\n",
        "grid_search.fit(X_train_scaled, y_train)\n",
        "\n",
        "print(\"Best hyperparameters found:\", grid_search.best_params_)"
      ]
    },
    {
      "cell_type": "code",
      "source": [
        "best_model = grid_search.best_estimator_\n",
        "\n",
        "y_pred = best_model.predict(X_test_scaled)\n",
        "\n",
        "accuracy = accuracy_score(y_test, y_pred)\n",
        "f1 = f1_score(y_test, y_pred, average='weighted')\n",
        "\n",
        "print(f\"\\n Accuracy: {accuracy * 100:.2f}%\")\n",
        "print(f\"\\nF1 Score: {f1 * 100:.2f}%\")\n",
        "print(\"\\nClassification Report:\")\n",
        "print(classification_report(y_test, y_pred, zero_division=0))"
      ],
      "metadata": {
        "colab": {
          "base_uri": "https://localhost:8080/"
        },
        "id": "MgvS0PApsUMX",
        "outputId": "a88823d5-b0e2-4180-af32-5f038040512e"
      },
      "execution_count": 17,
      "outputs": [
        {
          "output_type": "stream",
          "name": "stdout",
          "text": [
            "\n",
            " Accuracy: 90.25%\n",
            "\n",
            "F1 Score: 90.26%\n",
            "\n",
            "Classification Report:\n",
            "              precision    recall  f1-score   support\n",
            "\n",
            " INDIA100NEW       0.90      0.90      0.90        40\n",
            " INDIA100OLD       0.86      0.93      0.89        40\n",
            "  INDIA10NEW       0.92      0.90      0.91        40\n",
            "  INDIA10OLD       0.85      0.88      0.86        40\n",
            "     INDIA20       0.84      0.93      0.88        40\n",
            "    INDIA200       0.88      0.93      0.90        40\n",
            "   INDIA2000       0.97      0.85      0.91        40\n",
            "    INDIA500       0.92      0.90      0.91        40\n",
            "  INDIA50NEW       0.97      0.85      0.91        40\n",
            "  INDIA50OLD       0.93      0.97      0.95        40\n",
            "\n",
            "    accuracy                           0.90       400\n",
            "   macro avg       0.91      0.90      0.90       400\n",
            "weighted avg       0.91      0.90      0.90       400\n",
            "\n"
          ]
        }
      ]
    },
    {
      "cell_type": "markdown",
      "source": [
        "**SAVING THE MODEL**"
      ],
      "metadata": {
        "id": "D75YIxMVvwYX"
      }
    },
    {
      "cell_type": "code",
      "source": [
        "import joblib\n",
        "import pickle"
      ],
      "metadata": {
        "id": "kaomj4WqvTXB"
      },
      "execution_count": 18,
      "outputs": []
    },
    {
      "cell_type": "code",
      "source": [
        "# Saving SVM Model\n",
        "joblib.dump(best_model, 'sift_orb_svm_model.pkl')\n",
        "\n",
        "\n",
        "# Saving Vocabularies\n",
        "with open('sift_vocab.pkl', 'wb') as f:\n",
        "    pickle.dump(sift_kmeans, f)\n",
        "\n",
        "with open('orb_vocab.pkl', 'wb') as f:\n",
        "    pickle.dump(orb_kmeans, f)\n",
        "\n",
        "\n",
        "# Saving PCA & Scaler Objects\n",
        "joblib.dump(pca, 'pca_model.pkl')\n",
        "joblib.dump(scaler, 'scaler_model.pkl')\n",
        "\n",
        "print(\"✅ All files saved successfully.\")"
      ],
      "metadata": {
        "colab": {
          "base_uri": "https://localhost:8080/"
        },
        "id": "HQdX-BxOwMAq",
        "outputId": "8499b2da-fbdc-4820-9b05-4bd175de829b"
      },
      "execution_count": 19,
      "outputs": [
        {
          "output_type": "stream",
          "name": "stdout",
          "text": [
            "✅ All files saved successfully.\n"
          ]
        }
      ]
    }
  ],
  "metadata": {
    "colab": {
      "provenance": []
    },
    "kernelspec": {
      "display_name": "Python 3",
      "name": "python3"
    },
    "language_info": {
      "name": "python"
    }
  },
  "nbformat": 4,
  "nbformat_minor": 0
}